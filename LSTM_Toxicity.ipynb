{
  "nbformat": 4,
  "nbformat_minor": 0,
  "metadata": {
    "colab": {
      "provenance": []
    },
    "kernelspec": {
      "name": "python3",
      "display_name": "Python 3"
    },
    "language_info": {
      "name": "python"
    }
  },
  "cells": [
    {
      "cell_type": "code",
      "execution_count": 2,
      "metadata": {
        "id": "9tGRVXC-ehND"
      },
      "outputs": [],
      "source": [
        "import sys, os, re, csv, codecs\n",
        "import matplotlib.pyplot as plt\n",
        "import numpy as np\n",
        "import pandas as pd\n",
        "from keras.models import Model, model_from_json\n",
        "from keras.preprocessing.text import Tokenizer\n",
        "from keras_preprocessing.sequence import pad_sequences\n",
        "from keras.layers import Dense, Embedding, Input\n",
        "from keras.layers import LSTM, Dropout, Activation\n",
        "from keras.layers import Bidirectional, GlobalMaxPool1D\n",
        "from keras.callbacks import EarlyStopping, ModelCheckpoint\n",
        "from keras import initializers, regularizers, constraints, optimizers, layers\n",
        "\n"
      ]
    },
    {
      "cell_type": "code",
      "source": [
        "!pip install pad_sequences"
      ],
      "metadata": {
        "colab": {
          "base_uri": "https://localhost:8080/"
        },
        "id": "XSbyqXCse_ft",
        "outputId": "474d03a3-5372-4496-e2ac-741cb2c427c6"
      },
      "execution_count": null,
      "outputs": [
        {
          "output_type": "stream",
          "name": "stdout",
          "text": [
            "Looking in indexes: https://pypi.org/simple, https://us-python.pkg.dev/colab-wheels/public/simple/\n",
            "Collecting pad_sequences\n",
            "  Downloading pad-sequences-0.6.1.tar.gz (9.5 kB)\n",
            "Building wheels for collected packages: pad-sequences\n",
            "  Building wheel for pad-sequences (setup.py) ... \u001b[?25l\u001b[?25hdone\n",
            "  Created wheel for pad-sequences: filename=pad_sequences-0.6.1-py3-none-any.whl size=10216 sha256=cb40269035dce0e320e5c576630134012a86d3d496598c1ea13dabca725a7666\n",
            "  Stored in directory: /root/.cache/pip/wheels/51/e4/5c/d3610ed4476515e540ff4096e3e9a8a3e701dedfe1072eb000\n",
            "Successfully built pad-sequences\n",
            "Installing collected packages: pad-sequences\n",
            "Successfully installed pad-sequences-0.6.1\n"
          ]
        }
      ]
    },
    {
      "cell_type": "code",
      "source": [
        "from google.colab import drive\n",
        "drive.mount('/content/drive')"
      ],
      "metadata": {
        "id": "pcWxYqhXfpUD",
        "colab": {
          "base_uri": "https://localhost:8080/"
        },
        "outputId": "0ef43333-73a2-4707-c230-ffaca2e7c866"
      },
      "execution_count": 4,
      "outputs": [
        {
          "output_type": "stream",
          "name": "stdout",
          "text": [
            "Mounted at /content/drive\n"
          ]
        }
      ]
    },
    {
      "cell_type": "code",
      "source": [
        "train = pd.read_csv('/content/drive/MyDrive/dataset/train.csv')\n",
        "test = pd.read_csv('/content/drive/MyDrive/dataset/test.csv')\n",
        "testLabel = pd.read_csv('/content/drive/MyDrive/dataset/test_labels.csv')\n",
        "\n",
        "train = train.sample(frac=1)\n",
        "train.head()"
      ],
      "metadata": {
        "colab": {
          "base_uri": "https://localhost:8080/",
          "height": 206
        },
        "id": "ds-W_oaFff45",
        "outputId": "9d17b5ca-7157-4e93-d18e-4a5fa4f5ff22"
      },
      "execution_count": 6,
      "outputs": [
        {
          "output_type": "execute_result",
          "data": {
            "text/plain": [
              "                      id                                       comment_text  \\\n",
              "46276   7ba07580d1024706  \"\\n\\n \"\"definite form\"\" \\n\\nI notice Factuariu...   \n",
              "64906   adacf4e274e85368  \"\\n1, 2, 3, 4, 5, 6, 7, 8, 9, 9, 10, 11, 12, 1...   \n",
              "106100  37aad0a2788a8447  Purple Buds \\n\\nHey all I just had a quick que...   \n",
              "8120    159bba8a46febea9  I've made a start - won't be able to do much m...   \n",
              "80418   d727b747a62d23fc  Actually You seems to be over smart.No one is ...   \n",
              "\n",
              "        toxic  severe_toxic  obscene  threat  insult  identity_hate  \n",
              "46276       0             0        0       0       0              0  \n",
              "64906       0             0        0       0       0              0  \n",
              "106100      0             0        0       0       0              0  \n",
              "8120        0             0        0       0       0              0  \n",
              "80418       0             0        0       0       0              0  "
            ],
            "text/html": [
              "\n",
              "  <div id=\"df-26f3dc20-2859-49b8-86ec-75d844c9c2db\">\n",
              "    <div class=\"colab-df-container\">\n",
              "      <div>\n",
              "<style scoped>\n",
              "    .dataframe tbody tr th:only-of-type {\n",
              "        vertical-align: middle;\n",
              "    }\n",
              "\n",
              "    .dataframe tbody tr th {\n",
              "        vertical-align: top;\n",
              "    }\n",
              "\n",
              "    .dataframe thead th {\n",
              "        text-align: right;\n",
              "    }\n",
              "</style>\n",
              "<table border=\"1\" class=\"dataframe\">\n",
              "  <thead>\n",
              "    <tr style=\"text-align: right;\">\n",
              "      <th></th>\n",
              "      <th>id</th>\n",
              "      <th>comment_text</th>\n",
              "      <th>toxic</th>\n",
              "      <th>severe_toxic</th>\n",
              "      <th>obscene</th>\n",
              "      <th>threat</th>\n",
              "      <th>insult</th>\n",
              "      <th>identity_hate</th>\n",
              "    </tr>\n",
              "  </thead>\n",
              "  <tbody>\n",
              "    <tr>\n",
              "      <th>46276</th>\n",
              "      <td>7ba07580d1024706</td>\n",
              "      <td>\"\\n\\n \"\"definite form\"\" \\n\\nI notice Factuariu...</td>\n",
              "      <td>0</td>\n",
              "      <td>0</td>\n",
              "      <td>0</td>\n",
              "      <td>0</td>\n",
              "      <td>0</td>\n",
              "      <td>0</td>\n",
              "    </tr>\n",
              "    <tr>\n",
              "      <th>64906</th>\n",
              "      <td>adacf4e274e85368</td>\n",
              "      <td>\"\\n1, 2, 3, 4, 5, 6, 7, 8, 9, 9, 10, 11, 12, 1...</td>\n",
              "      <td>0</td>\n",
              "      <td>0</td>\n",
              "      <td>0</td>\n",
              "      <td>0</td>\n",
              "      <td>0</td>\n",
              "      <td>0</td>\n",
              "    </tr>\n",
              "    <tr>\n",
              "      <th>106100</th>\n",
              "      <td>37aad0a2788a8447</td>\n",
              "      <td>Purple Buds \\n\\nHey all I just had a quick que...</td>\n",
              "      <td>0</td>\n",
              "      <td>0</td>\n",
              "      <td>0</td>\n",
              "      <td>0</td>\n",
              "      <td>0</td>\n",
              "      <td>0</td>\n",
              "    </tr>\n",
              "    <tr>\n",
              "      <th>8120</th>\n",
              "      <td>159bba8a46febea9</td>\n",
              "      <td>I've made a start - won't be able to do much m...</td>\n",
              "      <td>0</td>\n",
              "      <td>0</td>\n",
              "      <td>0</td>\n",
              "      <td>0</td>\n",
              "      <td>0</td>\n",
              "      <td>0</td>\n",
              "    </tr>\n",
              "    <tr>\n",
              "      <th>80418</th>\n",
              "      <td>d727b747a62d23fc</td>\n",
              "      <td>Actually You seems to be over smart.No one is ...</td>\n",
              "      <td>0</td>\n",
              "      <td>0</td>\n",
              "      <td>0</td>\n",
              "      <td>0</td>\n",
              "      <td>0</td>\n",
              "      <td>0</td>\n",
              "    </tr>\n",
              "  </tbody>\n",
              "</table>\n",
              "</div>\n",
              "      <button class=\"colab-df-convert\" onclick=\"convertToInteractive('df-26f3dc20-2859-49b8-86ec-75d844c9c2db')\"\n",
              "              title=\"Convert this dataframe to an interactive table.\"\n",
              "              style=\"display:none;\">\n",
              "        \n",
              "  <svg xmlns=\"http://www.w3.org/2000/svg\" height=\"24px\"viewBox=\"0 0 24 24\"\n",
              "       width=\"24px\">\n",
              "    <path d=\"M0 0h24v24H0V0z\" fill=\"none\"/>\n",
              "    <path d=\"M18.56 5.44l.94 2.06.94-2.06 2.06-.94-2.06-.94-.94-2.06-.94 2.06-2.06.94zm-11 1L8.5 8.5l.94-2.06 2.06-.94-2.06-.94L8.5 2.5l-.94 2.06-2.06.94zm10 10l.94 2.06.94-2.06 2.06-.94-2.06-.94-.94-2.06-.94 2.06-2.06.94z\"/><path d=\"M17.41 7.96l-1.37-1.37c-.4-.4-.92-.59-1.43-.59-.52 0-1.04.2-1.43.59L10.3 9.45l-7.72 7.72c-.78.78-.78 2.05 0 2.83L4 21.41c.39.39.9.59 1.41.59.51 0 1.02-.2 1.41-.59l7.78-7.78 2.81-2.81c.8-.78.8-2.07 0-2.86zM5.41 20L4 18.59l7.72-7.72 1.47 1.35L5.41 20z\"/>\n",
              "  </svg>\n",
              "      </button>\n",
              "      \n",
              "  <style>\n",
              "    .colab-df-container {\n",
              "      display:flex;\n",
              "      flex-wrap:wrap;\n",
              "      gap: 12px;\n",
              "    }\n",
              "\n",
              "    .colab-df-convert {\n",
              "      background-color: #E8F0FE;\n",
              "      border: none;\n",
              "      border-radius: 50%;\n",
              "      cursor: pointer;\n",
              "      display: none;\n",
              "      fill: #1967D2;\n",
              "      height: 32px;\n",
              "      padding: 0 0 0 0;\n",
              "      width: 32px;\n",
              "    }\n",
              "\n",
              "    .colab-df-convert:hover {\n",
              "      background-color: #E2EBFA;\n",
              "      box-shadow: 0px 1px 2px rgba(60, 64, 67, 0.3), 0px 1px 3px 1px rgba(60, 64, 67, 0.15);\n",
              "      fill: #174EA6;\n",
              "    }\n",
              "\n",
              "    [theme=dark] .colab-df-convert {\n",
              "      background-color: #3B4455;\n",
              "      fill: #D2E3FC;\n",
              "    }\n",
              "\n",
              "    [theme=dark] .colab-df-convert:hover {\n",
              "      background-color: #434B5C;\n",
              "      box-shadow: 0px 1px 3px 1px rgba(0, 0, 0, 0.15);\n",
              "      filter: drop-shadow(0px 1px 2px rgba(0, 0, 0, 0.3));\n",
              "      fill: #FFFFFF;\n",
              "    }\n",
              "  </style>\n",
              "\n",
              "      <script>\n",
              "        const buttonEl =\n",
              "          document.querySelector('#df-26f3dc20-2859-49b8-86ec-75d844c9c2db button.colab-df-convert');\n",
              "        buttonEl.style.display =\n",
              "          google.colab.kernel.accessAllowed ? 'block' : 'none';\n",
              "\n",
              "        async function convertToInteractive(key) {\n",
              "          const element = document.querySelector('#df-26f3dc20-2859-49b8-86ec-75d844c9c2db');\n",
              "          const dataTable =\n",
              "            await google.colab.kernel.invokeFunction('convertToInteractive',\n",
              "                                                     [key], {});\n",
              "          if (!dataTable) return;\n",
              "\n",
              "          const docLinkHtml = 'Like what you see? Visit the ' +\n",
              "            '<a target=\"_blank\" href=https://colab.research.google.com/notebooks/data_table.ipynb>data table notebook</a>'\n",
              "            + ' to learn more about interactive tables.';\n",
              "          element.innerHTML = '';\n",
              "          dataTable['output_type'] = 'display_data';\n",
              "          await google.colab.output.renderOutput(dataTable, element);\n",
              "          const docLink = document.createElement('div');\n",
              "          docLink.innerHTML = docLinkHtml;\n",
              "          element.appendChild(docLink);\n",
              "        }\n",
              "      </script>\n",
              "    </div>\n",
              "  </div>\n",
              "  "
            ]
          },
          "metadata": {},
          "execution_count": 6
        }
      ]
    },
    {
      "cell_type": "code",
      "source": [
        "#checking for nulls\n",
        "train.isnull().any()"
      ],
      "metadata": {
        "colab": {
          "base_uri": "https://localhost:8080/"
        },
        "id": "Nlz1t9XTgTgM",
        "outputId": "af4fc09d-b185-4502-a380-3852e78d6be8"
      },
      "execution_count": 7,
      "outputs": [
        {
          "output_type": "execute_result",
          "data": {
            "text/plain": [
              "id               False\n",
              "comment_text     False\n",
              "toxic            False\n",
              "severe_toxic     False\n",
              "obscene          False\n",
              "threat           False\n",
              "insult           False\n",
              "identity_hate    False\n",
              "dtype: bool"
            ]
          },
          "metadata": {},
          "execution_count": 7
        }
      ]
    },
    {
      "cell_type": "code",
      "source": [
        " test.isnull().any()"
      ],
      "metadata": {
        "colab": {
          "base_uri": "https://localhost:8080/"
        },
        "id": "K_X7VrqYgYq_",
        "outputId": "ef1092bd-ff57-4465-f7e9-d1fd142b8234"
      },
      "execution_count": 8,
      "outputs": [
        {
          "output_type": "execute_result",
          "data": {
            "text/plain": [
              "id              False\n",
              "comment_text    False\n",
              "dtype: bool"
            ]
          },
          "metadata": {},
          "execution_count": 8
        }
      ]
    },
    {
      "cell_type": "code",
      "source": [
        "list_classes = [\"toxic\", \"severe_toxic\", \"obscene\", \"threat\", \"insult\", \"identity_hate\"]"
      ],
      "metadata": {
        "id": "aSU_eXKB8gZR"
      },
      "execution_count": 9,
      "outputs": []
    },
    {
      "cell_type": "code",
      "source": [
        "y = train[list_classes].values"
      ],
      "metadata": {
        "id": "GV1gRWDs8ksI"
      },
      "execution_count": 10,
      "outputs": []
    },
    {
      "cell_type": "code",
      "source": [
        "list_sentences_train = train[\"comment_text\"].fillna(\"CVxTz\").values\n",
        "list_sentences_test = test[\"comment_text\"].fillna(\"CVxTz\").values"
      ],
      "metadata": {
        "id": "cfgpg4G78v5b"
      },
      "execution_count": 11,
      "outputs": []
    },
    {
      "cell_type": "code",
      "source": [
        "max_features = 20000\n",
        "maxlen = 100\n",
        "embed_size = 350  \n",
        "lstm_output = 50\n",
        "relu_output = 50\n",
        "dropout1 = 0.20\n",
        "dropout2 = 0.20\n",
        "weight_file_path = \"lstm_weights_{}_{}_{}_{}_{}_{}_{}.ckpt\"\\\n",
        "    .format(max_features, maxlen, embed_size, lstm_output, relu_output, int(dropout1*100), int(dropout2*100))\n",
        "\n",
        "model_file_path = \"lstm_model_{}_{}_{}_{}_{}_{}_{}.json\"\\\n",
        "    .format(max_features, maxlen, embed_size, lstm_output, relu_output, int(dropout1*100), int(dropout2*100))"
      ],
      "metadata": {
        "id": "_EYWbaVTBuZl"
      },
      "execution_count": 12,
      "outputs": []
    },
    {
      "cell_type": "markdown",
      "source": [
        "**Tokenization**"
      ],
      "metadata": {
        "id": "ZRdppKMa81Uv"
      }
    },
    {
      "cell_type": "code",
      "source": [
        "tokenizer = Tokenizer(num_words=max_features)\n",
        "tokenizer.fit_on_texts(list(list_sentences_train))\n",
        "list_tokenized_train = tokenizer.texts_to_sequences(list_sentences_train)\n",
        "list_tokenized_test = tokenizer.texts_to_sequences(list_sentences_test)"
      ],
      "metadata": {
        "id": "ZBa8UBzA84Z5"
      },
      "execution_count": 13,
      "outputs": []
    },
    {
      "cell_type": "code",
      "source": [
        "#check the distribution of the number of words in sentences\n",
        "totalNumWords = [len(one_comment) for one_comment in list_tokenized_train]\n",
        "plt.hist(totalNumWords, bins=np.arange(0, 410, 10))\n",
        "plt.show()"
      ],
      "metadata": {
        "colab": {
          "base_uri": "https://localhost:8080/",
          "height": 265
        },
        "id": "1OI5tQQg_Gf0",
        "outputId": "536fb3e3-70ba-48dc-e637-5fb3b34d8b6c"
      },
      "execution_count": 14,
      "outputs": [
        {
          "output_type": "display_data",
          "data": {
            "text/plain": [
              "<Figure size 432x288 with 1 Axes>"
            ],
            "image/png": "[encoded data removed]"
          },
          "metadata": {
            "needs_background": "light"
          }
        }
      ]
    },
    {
      "cell_type": "code",
      "source": [
        "X_train = pad_sequences(list_tokenized_train, maxlen=maxlen)\n",
        "X_test = pad_sequences(list_tokenized_test, maxlen=maxlen)\n",
        "print(X_train)\n",
        "print(X_test)"
      ],
      "metadata": {
        "colab": {
          "base_uri": "https://localhost:8080/"
        },
        "id": "oi1Vg0gS-_cz",
        "outputId": "31b99f76-c2ab-469d-98c7-50d5ce796935"
      },
      "execution_count": 15,
      "outputs": [
        {
          "output_type": "stream",
          "name": "stdout",
          "text": [
            "[[    0     0     0 ...   640   428  8544]\n",
            " [    0     0     0 ...  4850  1080 17540]\n",
            " [    0     0     0 ...    18    54   666]\n",
            " ...\n",
            " [    7    33    14 ...  2123   469   182]\n",
            " [    0     0     0 ...    37   331    11]\n",
            " [    3     1   440 ...     2    42   222]]\n",
            "[[   0    0    0 ...  145  493   84]\n",
            " [   0    0    0 ...   11    8 2826]\n",
            " [   0    0    0 ...  109   15  355]\n",
            " ...\n",
            " [   0    0    0 ...   12 1651  358]\n",
            " [   0    0    0 ... 9779 3501  355]\n",
            " [   0    0    0 ...  100 5230    6]]\n"
          ]
        }
      ]
    },
    {
      "cell_type": "markdown",
      "source": [
        "**Model Defining**"
      ],
      "metadata": {
        "id": "iFn1PfW9FU0o"
      }
    },
    {
      "cell_type": "code",
      "source": [
        "def createModel():\n",
        "  inputData = Input(shape=(maxlen,))\n",
        "  x = Embedding(max_features, embed_size)(inputData)      \n",
        "  x = Bidirectional(LSTM(lstm_output, return_sequences=True, name='lstm_layer'))(x)\n",
        "  x = GlobalMaxPool1D()(x)\n",
        "  x = Dropout(dropout1)(x)\n",
        "  x = Dense(relu_output, activation=\"relu\")(x)\n",
        "  x = Dropout(dropout2)(x)\n",
        "  x = Dense(6, activation=\"sigmoid\")(x)\n",
        "\n",
        "  model = Model(inputs=inputData, outputs=x)\n",
        "\n",
        "  return model\n",
        "\n"
      ],
      "metadata": {
        "id": "RFO87o7L_nRP"
      },
      "execution_count": 16,
      "outputs": []
    },
    {
      "cell_type": "code",
      "source": [
        "def loadModel():\n",
        "    try:\n",
        "        # load json and create model\n",
        "        json_file = open(model_file_path, 'r')\n",
        "        loaded_model_json = json_file.read()\n",
        "        json_file.close()\n",
        "        model = model_from_json(loaded_model_json)\n",
        "\n",
        "        # load weights into new model\n",
        "        # model.load_weights(\"model.h5\")\n",
        "        loadWeights(model)\n",
        "        print(\"Loaded model from disk\")\n",
        "        return model\n",
        "\n",
        "    except Exception:\n",
        "        model = createModel()\n",
        "        print(\"Creating new model\")\n",
        "        return model\n",
        "\n",
        "def saveModel(model):\n",
        "    # serialize model to JSON\n",
        "    model_json = model.to_json()\n",
        "    with open(model_file_path, \"w\") as json_file:\n",
        "        json_file.write(model_json)\n",
        "    # serialize weights to HDF5\n",
        "    # model.save_weights(\"model.h5\")\n",
        "    print(\"Saved model to disk\")"
      ],
      "metadata": {
        "id": "E1GqUHt3ikbf"
      },
      "execution_count": 17,
      "outputs": []
    },
    {
      "cell_type": "code",
      "source": [
        "def testModel(model, X_test):\n",
        "    y_test = model.predict(X_test)"
      ],
      "metadata": {
        "id": "48gWMCABHeSu"
      },
      "execution_count": 18,
      "outputs": []
    },
    {
      "cell_type": "code",
      "source": [
        "def setupEarlyStop():\n",
        "    checkpoint = ModelCheckpoint(weight_file_path, monitor='val_loss', verbose=1, save_best_only=True, mode='min')\n",
        "    early = EarlyStopping(monitor=\"val_loss\", mode=\"min\", patience=30)\n",
        "    callbacks_list = [checkpoint, early]\n",
        "\n",
        "    return callbacks_list\n",
        "\n",
        "def loadWeights(model):\n",
        "    try:\n",
        "        print('Loading weights...')\n",
        "        model.load_weights(weight_file_path)\n",
        "    except IOError:\n",
        "        print('No weight file, creating one...')"
      ],
      "metadata": {
        "id": "4EulTo_oHjeR"
      },
      "execution_count": 20,
      "outputs": []
    },
    {
      "cell_type": "markdown",
      "source": [
        "**Training**"
      ],
      "metadata": {
        "id": "wT9hTpIWFaET"
      }
    },
    {
      "cell_type": "code",
      "source": [
        "model = loadModel()\n",
        "\n",
        "model.compile(loss='binary_crossentropy', optimizer='adam', metrics=['accuracy'])  \n",
        "\n",
        "callbacks_list = setupEarlyStop()\n",
        "\n",
        "model.fit(X_train, y, batch_size=32, epochs=2, validation_split=0.05, callbacks=callbacks_list)\n",
        "model.summary()\n",
        "saveModel(model)\n",
        "loadWeights(model)\n",
        "\n",
        "# test model (predicting)\n",
        "testModel(model, X_test)\n",
        "\n",
        "# save the prediction for training\n",
        "trainResult = model.predict(X_train)"
      ],
      "metadata": {
        "colab": {
          "base_uri": "https://localhost:8080/"
        },
        "id": "UcGZNSIqHo8S",
        "outputId": "a3a9194e-c75f-4b02-f8e8-6f5e495527a4"
      },
      "execution_count": 22,
      "outputs": [
        {
          "output_type": "stream",
          "name": "stdout",
          "text": [
            "Creating new model\n",
            "Epoch 1/2\n",
            "4738/4738 [==============================] - ETA: 0s - loss: 0.0617 - accuracy: 0.9237\n",
            "Epoch 1: val_loss improved from inf to 0.04702, saving model to lstm_weights_20000_100_350_50_50_20_20.ckpt\n"
          ]
        },
        {
          "output_type": "stream",
          "name": "stderr",
          "text": [
            "WARNING:absl:Found untraced functions such as lstm_cell_4_layer_call_fn, lstm_cell_4_layer_call_and_return_conditional_losses, lstm_cell_5_layer_call_fn, lstm_cell_5_layer_call_and_return_conditional_losses while saving (showing 4 of 4). These functions will not be directly callable after loading.\n"
          ]
        },
        {
          "output_type": "stream",
          "name": "stdout",
          "text": [
            "\b\b\b\b\b\b\b\b\b\b\b\b\b\b\b\b\b\b\b\b\b\b\b\b\b\b\b\b\b\b\b\b\b\b\b\b\b\b\b\b\b\b\b\b\b\b\b\b\b\b\b\b\b\b\b\b\b\b\b\b\b\b\b\b\b\b\b\b\b\b\b\b\b\b\b\b\b\b\b\b\b\b\b\b\b\b\r4738/4738 [==============================] - 1552s 327ms/step - loss: 0.0617 - accuracy: 0.9237 - val_loss: 0.0470 - val_accuracy: 0.9937\n",
            "Epoch 2/2\n",
            "4738/4738 [==============================] - ETA: 0s - loss: 0.0442 - accuracy: 0.9733\n",
            "Epoch 2: val_loss improved from 0.04702 to 0.04646, saving model to lstm_weights_20000_100_350_50_50_20_20.ckpt\n"
          ]
        },
        {
          "output_type": "stream",
          "name": "stderr",
          "text": [
            "WARNING:absl:Found untraced functions such as lstm_cell_4_layer_call_fn, lstm_cell_4_layer_call_and_return_conditional_losses, lstm_cell_5_layer_call_fn, lstm_cell_5_layer_call_and_return_conditional_losses while saving (showing 4 of 4). These functions will not be directly callable after loading.\n"
          ]
        },
        {
          "output_type": "stream",
          "name": "stdout",
          "text": [
            "\b\b\b\b\b\b\b\b\b\b\b\b\b\b\b\b\b\b\b\b\b\b\b\b\b\b\b\b\b\b\b\b\b\b\b\b\b\b\b\b\b\b\b\b\b\b\b\b\b\b\b\b\b\b\b\b\b\b\b\b\b\b\b\b\b\b\b\b\b\b\b\b\b\b\b\b\b\b\b\b\b\b\b\b\b\b\r4738/4738 [==============================] - 1548s 327ms/step - loss: 0.0442 - accuracy: 0.9733 - val_loss: 0.0465 - val_accuracy: 0.9936\n",
            "Model: \"model_1\"\n",
            "_________________________________________________________________\n",
            " Layer (type)                Output Shape              Param #   \n",
            "=================================================================\n",
            " input_2 (InputLayer)        [(None, 100)]             0         \n",
            "                                                                 \n",
            " embedding_1 (Embedding)     (None, 100, 350)          7000000   \n",
            "                                                                 \n",
            " bidirectional_1 (Bidirectio  (None, 100, 100)         160400    \n",
            " nal)                                                            \n",
            "                                                                 \n",
            " global_max_pooling1d_1 (Glo  (None, 100)              0         \n",
            " balMaxPooling1D)                                                \n",
            "                                                                 \n",
            " dropout_2 (Dropout)         (None, 100)               0         \n",
            "                                                                 \n",
            " dense_2 (Dense)             (None, 50)                5050      \n",
            "                                                                 \n",
            " dropout_3 (Dropout)         (None, 50)                0         \n",
            "                                                                 \n",
            " dense_3 (Dense)             (None, 6)                 306       \n",
            "                                                                 \n",
            "=================================================================\n",
            "Total params: 7,165,756\n",
            "Trainable params: 7,165,756\n",
            "Non-trainable params: 0\n",
            "_________________________________________________________________\n",
            "Saved model to disk\n",
            "Loading weights...\n",
            "4787/4787 [==============================] - 298s 62ms/step\n",
            "4987/4987 [==============================] - 299s 60ms/step\n"
          ]
        }
      ]
    }
  ]
}